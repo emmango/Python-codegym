{
 "cells": [
  {
   "cell_type": "code",
   "execution_count": 13,
   "id": "688335dc",
   "metadata": {},
   "outputs": [],
   "source": [
    "# thuc hanh ve mat cuoi\n",
    "\n",
    "from turtle import Turtle\n",
    "import turtle\n",
    "pen = Turtle()\n",
    "\n",
    "turtle.pensize(3)\n",
    "turtle.pencolor(\"red\")\n",
    "turtle.fillcolor(\"blue\")\n",
    "pen.shape(\"circle\")\n",
    "\n",
    "pen.penup()\n",
    "turtle.goto(0,-200)\n",
    "\n",
    "facesize = 200\n",
    "eyesize = 20\n",
    "\n",
    "pen.pendown()\n",
    "pen.fillcolor(\"#6c1ee7\")\n",
    "pen.circle(facesize)\n",
    "nosesize = 70\n",
    "\n",
    "#draw an eye\n",
    "pen.penup()\n",
    "pen.goto(-50, 100)\n",
    "pen.pendown()\n",
    "pen.begin_fill()\n",
    "pen.circle(eyesize)\n",
    "pen.end_fill()\n",
    "\n",
    "\n",
    "#draw an eye\n",
    "pen.penup()\n",
    "pen.goto(50, 100)\n",
    "pen.pendown()\n",
    "pen.begin_fill()\n",
    "pen.circle(eyesize)\n",
    "pen.end_fill()\n",
    "\n",
    "#draw a nose\n",
    "pen.penup()\n",
    "pen.goto(0,50)\n",
    "pen.pendown()\n",
    "pen.circle(-nosesize, steps = 3)\n",
    "\n",
    "#draw a smile\n",
    "pen.penup()\n",
    "pen.goto(-100,70)\n",
    "pen.pendown()\n",
    "pen.circle(100,)\n",
    "pen.right(90)\n",
    "pen.circle(100,180)\n",
    "\n",
    "\n",
    "turtle.done()"
   ]
  },
  {
   "cell_type": "code",
   "execution_count": 11,
   "id": "8bf2b0b0",
   "metadata": {},
   "outputs": [],
   "source": [
    "turtle.done()"
   ]
  },
  {
   "cell_type": "code",
   "execution_count": 16,
   "id": "a4f4c9d9",
   "metadata": {},
   "outputs": [
    {
     "name": "stdout",
     "output_type": "stream",
     "text": [
      "72.62\n"
     ]
    }
   ],
   "source": [
    "# thuc hanh tinh dien tich tam giac bang kich thuoc 3 canh\n",
    "a = 10\n",
    "b = 20\n",
    "c = 15\n",
    "\n",
    "#nua chu vi\n",
    "p = (a+b+c)/2\n",
    "\n",
    "#tinh dien tich\n",
    "s = (p*(p-a)*(p-b)*(p-c))**0.5\n",
    "\n",
    "print(round(s, 2))"
   ]
  },
  {
   "cell_type": "code",
   "execution_count": null,
   "id": "26bf5d8c",
   "metadata": {},
   "outputs": [],
   "source": []
  }
 ],
 "metadata": {
  "kernelspec": {
   "display_name": "Python 3 (ipykernel)",
   "language": "python",
   "name": "python3"
  },
  "language_info": {
   "codemirror_mode": {
    "name": "ipython",
    "version": 3
   },
   "file_extension": ".py",
   "mimetype": "text/x-python",
   "name": "python",
   "nbconvert_exporter": "python",
   "pygments_lexer": "ipython3",
   "version": "3.10.2"
  }
 },
 "nbformat": 4,
 "nbformat_minor": 5
}
